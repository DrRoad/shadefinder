{
 "cells": [
  {
   "cell_type": "markdown",
   "metadata": {},
   "source": [
    "### This script is used to aggregate point features into line street segment using Fiona"
   ]
  },
  {
   "cell_type": "markdown",
   "metadata": {},
   "source": [
    "#### The segmentation label and idx\n",
    "\n",
    "Building: 1\n",
    "\n",
    "Sky: 2\n",
    "\n",
    "Trees: 4\n",
    "\n",
    "Grass: 9\n",
    "\n",
    "Sidewalk: 11\n"
   ]
  },
  {
   "cell_type": "code",
   "execution_count": 45,
   "metadata": {},
   "outputs": [
    {
     "data": {
      "image/png": "[encoded data removed]",
      "text/plain": [
       "<matplotlib.figure.Figure at 0x7f7bf06f4dd8>"
      ]
     },
     "metadata": {},
     "output_type": "display_data"
    }
   ],
   "source": [
    "import os, os.path\n",
    "from PIL import Image\n",
    "import numpy as np\n",
    "from matplotlib import pyplot as plt\n",
    "\n",
    "\n",
    "root = '/home/xiaojiang/xiaojiang/thermal-injustice/datasets/SF'\n",
    "segImgfiles = os.path.join(root, 'seg_cylindri_panos')\n",
    "segImgfile = os.path.join(segImgfiles, '37.782357118627395 - -122.48383681746463 - 356.718 - 2014-03_seg.png')\n",
    "\n",
    "segImg = np.asarray(Image.open(segImgfile))\n",
    "\n",
    "plt.imshow(segImg==2)\n",
    "plt.show()\n"
   ]
  },
  {
   "cell_type": "code",
   "execution_count": null,
   "metadata": {
    "collapsed": true
   },
   "outputs": [],
   "source": []
  },
  {
   "cell_type": "markdown",
   "metadata": {},
   "source": [
    "#### Read the schema of the shapefile"
   ]
  },
  {
   "cell_type": "code",
   "execution_count": 30,
   "metadata": {},
   "outputs": [
    {
     "data": {
      "text/plain": [
       "{'geometry': 'Point',\n",
       " 'properties': OrderedDict([('PntNum', 'int:9'),\n",
       "              ('panoID', 'str:80'),\n",
       "              ('panoDate', 'str:80'),\n",
       "              ('svf', 'float:24.15'),\n",
       "              ('yaw', 'float:24.15'),\n",
       "              ('gvi', 'float:24.15'),\n",
       "              ('layer', 'str:100'),\n",
       "              ('path', 'str:200')])}"
      ]
     },
     "execution_count": 30,
     "metadata": {},
     "output_type": "execute_result"
    }
   ],
   "source": [
    "import os, os.path\n",
    "import sys\n",
    "import fiona\n",
    "from shapely.geometry import LineString, mapping, shape, Point\n",
    "from shapely.ops import transform, unary_union\n",
    "import rtree\n",
    "\n",
    "root = r'/home/xiaojiang/xiaojiang/thermal-injustice/datasets/SF/spatial-data/'\n",
    "\n",
    "# the output sunexpo shapefile\n",
    "shpfile = os.path.join(root, 'SF_gvi_svf.shp')\n",
    "lineshpFile = os.path.join(root, 'tl_2014_06075_roads_wgs84.shp')\n",
    "\n",
    "datasource = fiona.open(shpfile, 'r')\n",
    "\n",
    "crs = datasource.crs\n",
    "datasource.schema"
   ]
  },
  {
   "cell_type": "code",
   "execution_count": 40,
   "metadata": {},
   "outputs": [
    {
     "data": {
      "text/plain": [
       "odict_keys(['PntNum', 'panoID', 'panoDate', 'svf', 'yaw', 'gvi', 'layer', 'path'])"
      ]
     },
     "execution_count": 40,
     "metadata": {},
     "output_type": "execute_result"
    }
   ],
   "source": [
    "datasource.schema['properties'].keys()"
   ]
  },
  {
   "cell_type": "code",
   "execution_count": 46,
   "metadata": {},
   "outputs": [],
   "source": [
    "prop = datasource.schema['properties']"
   ]
  },
  {
   "cell_type": "code",
   "execution_count": 47,
   "metadata": {},
   "outputs": [
    {
     "name": "stdout",
     "output_type": "stream",
     "text": [
      "PntNum int:9\n",
      "panoID str:80\n",
      "panoDate str:80\n",
      "svf float:24.15\n",
      "yaw float:24.15\n",
      "gvi float:24.15\n",
      "layer str:100\n",
      "path str:200\n"
     ]
    }
   ],
   "source": [
    "for key, value in prop.items(): \n",
    "    print (key, value)"
   ]
  },
  {
   "cell_type": "code",
   "execution_count": null,
   "metadata": {
    "collapsed": true
   },
   "outputs": [],
   "source": []
  },
  {
   "cell_type": "markdown",
   "metadata": {},
   "source": [
    "#### Save the attribute values of shapefile into lists"
   ]
  },
  {
   "cell_type": "code",
   "execution_count": 8,
   "metadata": {
    "collapsed": true
   },
   "outputs": [],
   "source": [
    "expo_records = []\n",
    "fieldlist = ['gvi', 'yaw', 'svf']\n",
    "\n",
    "with fiona.open(shpfile, 'r') as expo:\n",
    "    for feat in expo:\n",
    "        item = {}\n",
    "        for field in fieldlist:\n",
    "            attr = feat['properties'][field]\n",
    "            item.update({field: attr})\n",
    "            \n",
    "#         lon = feat['properties']['longitude']\n",
    "#         lat = feat['properties']['latitude']\n",
    "#         point = Point(float(lon), float(lat))\n",
    "#         print ('The created geom object is:', point)\n",
    "        \n",
    "        # add the point geom to the dictionary\n",
    "        pnt_geom = shape(feat['geometry'])\n",
    "        item.update({'point': pnt_geom})\n",
    "        \n",
    "        expo_records.append(item)\n",
    "        "
   ]
  },
  {
   "cell_type": "code",
   "execution_count": 13,
   "metadata": {},
   "outputs": [
    {
     "data": {
      "text/plain": [
       "0.792584341202498"
      ]
     },
     "execution_count": 13,
     "metadata": {},
     "output_type": "execute_result"
    }
   ],
   "source": [
    "len(expo_records)\n",
    "expo_records[0]['svf']\n"
   ]
  },
  {
   "cell_type": "code",
   "execution_count": null,
   "metadata": {
    "collapsed": true
   },
   "outputs": [],
   "source": []
  },
  {
   "cell_type": "markdown",
   "metadata": {},
   "source": [
    "#### Split the roads into shorter lines\n",
    "The following code recursively splits the line in half until it is shorter than the maximum desired length.\n",
    "\n",
    "In order make the result more reasonable, we need to split the long street segment into shorter street segments, cite from https://www.azavea.com/blog/2016/10/05/philippines-road-safety-using-shapely-fiona-locate-high-risk-traffic-areas/"
   ]
  },
  {
   "cell_type": "code",
   "execution_count": 14,
   "metadata": {
    "collapsed": true
   },
   "outputs": [],
   "source": [
    "# using recursive statement to split longer roads into shorter segments\n",
    "# Reference: https://www.azavea.com/blog/2016/10/05/philippines-road-safety-using-shapely-fiona-locate-high-risk-traffic-areas/\n",
    "\n",
    "def split_line(line, max_line_units):\n",
    "    '''\n",
    "    The input:\n",
    "        line: the LineString object\n",
    "        max_line_units: the split distance, be careful of the units\n",
    "    output:\n",
    "        a list of LineString segment\n",
    "    '''\n",
    "    \n",
    "    if line.length <= max_line_units:\n",
    "        return [line]\n",
    "    \n",
    "    half_length = line.length / 2\n",
    "    coords = list(line.coords)\n",
    "    \n",
    "    for idx, point in enumerate(coords):\n",
    "        proj_dist = line.project(Point(point))\n",
    "        if proj_dist == half_length:\n",
    "            return [LineString(coords[:idx + 1]), LineString(coords[idx:])]\n",
    "        \n",
    "        if proj_dist > half_length:\n",
    "            mid_point = line.interpolate(half_length)\n",
    "            head_line = LineString(coords[:idx] + [(mid_point.x, mid_point.y)])\n",
    "            tail_line = LineString([(mid_point.x, mid_point.y)] + coords[idx:])\n",
    "            return split_line(head_line, max_line_units) + split_line(tail_line, max_line_units)\n"
   ]
  },
  {
   "cell_type": "code",
   "execution_count": null,
   "metadata": {
    "collapsed": true
   },
   "outputs": [],
   "source": []
  },
  {
   "cell_type": "markdown",
   "metadata": {},
   "source": [
    "#### Split lines into shorter street segments, keep the attribute of street\n",
    "\n",
    "This session also output the shorter street segments into a shapefile, although this is not necessary. The returned results will be saved into a list split_lines, which stores all LineString items.\n",
    "\n",
    "\n",
    "There is one more option, you can go to the SamplingLib.py to find the function of \"createStreetSegment\""
   ]
  },
  {
   "cell_type": "code",
   "execution_count": 15,
   "metadata": {
    "collapsed": true
   },
   "outputs": [],
   "source": [
    "\n",
    "def SplitStreets2Segments(streetMap, segStreetMap, distance):\n",
    "    '''\n",
    "    This function is used to split the streets into shorter street segments for visualization\n",
    "    and spatial analyses and modeling purposes\n",
    "    \n",
    "    parameters:\n",
    "        streetMap: the original street feature class\n",
    "        segStreetMap: the filename of the output street segment\n",
    "        distance: the distance of the spliting the distance\n",
    "    \n",
    "    example:\n",
    "        root = r'/home/xiaojiang/xiaojiang/tokyo-proj/shibuya-proj/spatial-data/'\n",
    "        streetMap = os.path.join(root, 'Japan_highway_shibuya.shp')\n",
    "        segStreetMap = os.path.join(root, 'seg_Japan_highway_shibuya.shp')\n",
    "        \n",
    "        SplitStreets2Segments(streetMap, segStreetMap, 40)\n",
    "    \n",
    "    \n",
    "    Copyright(c) Xiaojiang Li, MIT Senseable City Lab \n",
    "    Last modified Dec 2ed, 2018\n",
    "    '''\n",
    "    \n",
    "    import pyproj\n",
    "    from shapely.ops import transform\n",
    "    from functools import partial\n",
    "    \n",
    "    split_lines = []\n",
    "    \n",
    "    with fiona.open(streetMap, 'r') as streets:\n",
    "        crs = streets.crs\n",
    "        schema = streets.schema.copy()\n",
    "        \n",
    "        with fiona.open(segStreetMap, 'w', driver=\"ESRI Shapefile\", crs=crs, schema=schema) as output_segment:\n",
    "            for street in streets:            \n",
    "                street_attr = street['properties']            \n",
    "                street_geom = street['geometry']\n",
    "                featureType = street_geom['type']\n",
    "                \n",
    "                # check if the linear feature is LineString or Multi-Line String\n",
    "                if featureType == 'MultiLineString':\n",
    "                    print('This is a MultiLineString')\n",
    "                    multi_street_geom_degree = shape(street_geom)\n",
    "                    \n",
    "                    for singleLine_degree in multi_street_geom_degree:\n",
    "                        length = singleLine_degree.length\n",
    "                        # partition each single line in the multiline\n",
    "                        project = partial(pyproj.transform,pyproj.Proj(init='EPSG:4326'),pyproj.Proj(init='EPSG:3857')) #3857 is psudo WGS84 the unit is meter\n",
    "                        singleLine_meter = transform(project, singleLine_degree)\n",
    "                        \n",
    "                        street_segments = split_line(singleLine_meter, distance)\n",
    "                        split_lines.extend(street_segments)\n",
    "                        \n",
    "                        # save the splitted segment to a shapefile\n",
    "                        for street_segment in street_segments:                \n",
    "                            project2 = partial(pyproj.transform,pyproj.Proj(init='EPSG:3857'),pyproj.Proj(init='EPSG:4326'))\n",
    "                            street_segment_deg = transform(project2, street_segment)\n",
    "\n",
    "                            output_segment.write({\n",
    "                                'geometry': mapping(street_segment_deg),\n",
    "                                'properties': dict(street_attr)\n",
    "                            })\n",
    "                \n",
    "                elif featureType == 'LineString': \n",
    "                    # RouteName = street['properties']['FULLNAME']\n",
    "                    street_geom_degree = shape(street_geom)\n",
    "                    \n",
    "                    # convert degree to meter, in order to split by distance in meter\n",
    "                    project = partial(pyproj.transform,pyproj.Proj(init='EPSG:4326'),pyproj.Proj(init='EPSG:3857')) #3857 is psudo WGS84 the unit is meter\n",
    "                    street_geom_meter = transform(project, street_geom_degree)\n",
    "                    \n",
    "                    street_segments = split_line(street_geom_meter, distance)\n",
    "                    split_lines.extend(street_segments)\n",
    "                    \n",
    "                    # save the splitted segment to a shapefile\n",
    "                    for street_segment in street_segments:                \n",
    "                        project2 = partial(pyproj.transform,pyproj.Proj(init='EPSG:3857'),pyproj.Proj(init='EPSG:4326'))\n",
    "                        street_segment_deg = transform(project2, street_segment)\n",
    "                        \n",
    "                        output_segment.write({\n",
    "                            'geometry': mapping(street_segment_deg),\n",
    "                            'properties': dict(street_attr) # this is important statement to save all the previous properties\n",
    "                        })\n",
    "                        \n",
    "                        \n",
    "    return split_lines\n",
    "    "
   ]
  },
  {
   "cell_type": "code",
   "execution_count": null,
   "metadata": {
    "collapsed": true
   },
   "outputs": [],
   "source": []
  },
  {
   "cell_type": "code",
   "execution_count": 18,
   "metadata": {},
   "outputs": [
    {
     "name": "stdout",
     "output_type": "stream",
     "text": [
      "This is a MultiLineString\n",
      "This is a MultiLineString\n",
      "This is a MultiLineString\n",
      "This is a MultiLineString\n",
      "This is a MultiLineString\n",
      "This is a MultiLineString\n",
      "This is a MultiLineString\n",
      "This is a MultiLineString\n",
      "This is a MultiLineString\n",
      "This is a MultiLineString\n",
      "This is a MultiLineString\n",
      "This is a MultiLineString\n",
      "This is a MultiLineString\n",
      "This is a MultiLineString\n",
      "This is a MultiLineString\n"
     ]
    }
   ],
   "source": [
    "root = r'/home/xiaojiang/xiaojiang/thermal-injustice/datasets/SF/spatial-data/'\n",
    "\n",
    "streetMap = os.path.join(root, 'Japan_highway_shibuya.shp')\n",
    "segStreetMap = os.path.join(root, 'seg_Japan_highway_shibuya.shp')\n",
    "\n",
    "streetMap = os.path.join(root, 'Shibuya_streetNetwork_noMotorway.shp')\n",
    "segStreetMap = os.path.join(root, 'seg_Shibuya_streetNetwork_noMotorway.shp')\n",
    "\n",
    "streetMap = os.path.join(root, 'tl_2014_06075_roads_wgs84.shp')\n",
    "segStreetMap = os.path.join(root, 'tl_2014_06075_roads_wgs84_400m.shp')\n",
    "\n",
    "\n",
    "split_lines = SplitStreets2Segments(streetMap, segStreetMap, 400)\n"
   ]
  },
  {
   "cell_type": "code",
   "execution_count": null,
   "metadata": {
    "collapsed": true
   },
   "outputs": [],
   "source": []
  },
  {
   "cell_type": "code",
   "execution_count": 20,
   "metadata": {},
   "outputs": [
    {
     "data": {
      "text/plain": [
       "{'geometry': 'LineString',\n",
       " 'properties': OrderedDict([('LINEARID', 'str:22'),\n",
       "              ('FULLNAME', 'str:100'),\n",
       "              ('RTTYP', 'str:1'),\n",
       "              ('MTFCC', 'str:5')])}"
      ]
     },
     "execution_count": 20,
     "metadata": {},
     "output_type": "execute_result"
    }
   ],
   "source": [
    "# keys = street_attr.keys()\n",
    "# att = dict(street_attr)\n",
    "# print('The attribute keys are:', keys)\n",
    "# print('The dictionary created is:', att)\n",
    "\n",
    "file = fiona.open(segStreetMap)\n",
    "file.schema\n",
    "# print('the crs of the output shapefile is:', file.crs)\n"
   ]
  },
  {
   "cell_type": "code",
   "execution_count": null,
   "metadata": {},
   "outputs": [],
   "source": []
  },
  {
   "cell_type": "markdown",
   "metadata": {},
   "source": [
    "#### Create linear segments with buffer distance of 50 meter, because the split_line records the geo in projection of EPSG:3857, the unit is meter"
   ]
  },
  {
   "cell_type": "code",
   "execution_count": 21,
   "metadata": {},
   "outputs": [
    {
     "name": "stdout",
     "output_type": "stream",
     "text": [
      "The number of element is: 11132\n"
     ]
    },
    {
     "data": {
      "image/svg+xml": [
       "<svg xmlns=\"http://www.w3.org/2000/svg\" xmlns:xlink=\"http://www.w3.org/1999/xlink\" width=\"225.76807479187846\" height=\"300\" viewBox=\"-13622097.358311668 4555226.10342502 225.76807479187846 316.8913793899119\" preserveAspectRatio=\"xMinYMin meet\"><g transform=\"matrix(1,0,0,-1,0,9110769.09822943)\"><path fill-rule=\"evenodd\" fill=\"#66cc99\" stroke=\"#555555\" stroke-width=\"2.112609195932746\" opacity=\"0.6\" d=\"M -13621989.152488478,4555286.7477968 L -13622079.804074895,4555457.850345948 L -13622081.885718506,4555462.293669762 L -13622083.52181654,4555466.919634511 L -13622084.69661248,4555471.683689626 L -13622085.398792395,4555476.539954652 L -13622085.621593913,4555481.441661103 L -13622085.362871332,4555486.341602864 L -13622084.625116292,4555491.192590819 L -13622083.415433777,4555495.947907302 L -13622081.74547369,4555500.561756015 L -13622079.63131866,4555504.989703073 L -13622077.093329158,4555509.189104926 L -13622074.155947408,4555513.119519038 L -13622070.847462002,4555516.743093372 L -13622067.199735463,4555520.024930928 L -13622063.247897392,4555522.933425814 L -13622059.030006152,4555525.440567636 L -13622054.586682338,4555527.522211247 L -13622049.960717589,4555529.158309281 L -13622045.196662473,4555530.33310522 L -13622040.340397447,4555531.035285137 L -13622035.438690998,4555531.258086655 L -13622030.538749235,4555530.999364074 L -13622025.68776128,4555530.261609034 L -13622020.932444798,4555529.051926518 L -13622016.318596086,4555527.381966432 L -13622011.890649026,4555525.267811403 L -13622007.691247173,4555522.7298219 L -13622003.760833062,4555519.792440149 L -13622000.137258727,4555516.4839547435 L -13621996.855421172,4555512.836228205 L -13621993.946926285,4555508.884390134 L -13621991.439784463,4555504.666498893 L -13621900.714399464,4555333.424656809 L -13621900.567682143,4555333.145608554 L -13621888.995607017,4555310.966685914 L -13621886.942021402,4555306.510324982 L -13621885.335124118,4555301.874136056 L -13621884.190390464,4555297.102768171 L -13621883.518844852,4555292.242172206 L -13621883.326954631,4555287.339158359 L -13621883.616567811,4555282.440945334 L -13621884.384895258,4555277.594705598 L -13621885.624537557,4555272.847111091 L -13621887.323556278,4555268.243883742 L -13621889.46558894,4555263.829355147 L -13621892.030006599,4555259.64603963 L -13621894.992112508,4555255.734224807 L -13621898.323379971,4555252.131583591 L -13621901.991727062,4555248.872811388 L -13621905.961825589,4555245.989291956 L -13621910.195441335,4555243.508795162 L -13621914.651802268,4555241.455209547 L -13621919.287991194,4555239.848312262 L -13621924.059359081,4555238.703578608 L -13621928.919955045,4555238.0320329955 L -13621933.82296889,4555237.840142775 L -13621938.721181918,4555238.129755955 L -13621943.567421652,4555238.898083401 L -13621948.31501616,4555240.137725702 L -13621952.918243509,4555241.836744422 L -13621957.332772104,4555243.9787770845 L -13621961.516087621,4555246.543194743 L -13621965.427902445,4555249.505300653 L -13621969.03054366,4555252.836568116 L -13621972.289315863,4555256.504915206 L -13621975.172835296,4555260.475013733 L -13621977.65333209,4555264.708629481 L -13621989.152488478,4555286.7477968 z\" /></g></svg>"
      ],
      "text/plain": [
       "<shapely.geometry.polygon.Polygon at 0x7f7bf0b3fb38>"
      ]
     },
     "execution_count": 21,
     "metadata": {},
     "output_type": "execute_result"
    }
   ],
   "source": [
    "\n",
    "segments_rtree_index = rtree.index.Index()\n",
    "\n",
    "i = 0\n",
    "for idx, element in enumerate(split_lines):\n",
    "    i = i + 1\n",
    "    segments_rtree_index.insert(idx, element.buffer(50).bounds)\n",
    "    \n",
    "# segments_rtree_index\n",
    "\n",
    "print('The number of element is:', i)\n",
    "\n",
    "element.buffer(1).bounds\n",
    "# print('The boundary of the expo site is:', element.buffer(50))\n",
    "element.buffer(50)\n"
   ]
  },
  {
   "cell_type": "code",
   "execution_count": null,
   "metadata": {
    "collapsed": true
   },
   "outputs": [],
   "source": []
  },
  {
   "cell_type": "code",
   "execution_count": 23,
   "metadata": {},
   "outputs": [
    {
     "data": {
      "text/plain": [
       "(-122.46571821458478,\n",
       " 37.75534307849783,\n",
       " -122.46571821458478,\n",
       " 37.75534307849783)"
      ]
     },
     "execution_count": 23,
     "metadata": {},
     "output_type": "execute_result"
    }
   ],
   "source": [
    "\n",
    "expo_records[0]['point'].bounds\n",
    "# expo_records_deg.bounds\n"
   ]
  },
  {
   "cell_type": "code",
   "execution_count": null,
   "metadata": {
    "collapsed": true
   },
   "outputs": [],
   "source": []
  },
  {
   "cell_type": "markdown",
   "metadata": {},
   "source": [
    "#### Using r-tree to do the spatial operations"
   ]
  },
  {
   "cell_type": "code",
   "execution_count": 24,
   "metadata": {
    "collapsed": true
   },
   "outputs": [],
   "source": [
    "\n",
    "from functools import partial\n",
    "import pyproj\n",
    "\n",
    "# model to convert the unit of WGS84 from degree to meter\n",
    "wgs_deg2meter_model = partial(pyproj.transform,pyproj.Proj(init='EPSG:4326'),pyproj.Proj(init='EPSG:3857'))\n",
    "\n",
    "# use a dictionary to store the intersected point features\n",
    "segments_with_records = {}\n",
    "\n",
    "for record in expo_records:\n",
    "    record_pnt = record['point']\n",
    "    record_pnt_meter = transform(wgs_deg2meter_model, record_pnt)\n",
    "    \n",
    "    # use rtree index to find the intersected roads\n",
    "    inter_roads = segments_rtree_index.intersection(record_pnt_meter.bounds)\n",
    "    road_id_inter = [(segment_id, split_lines[segment_id].distance(record_pnt_meter)) for segment_id in inter_roads]\n",
    "    \n",
    "    \n",
    "    # find the neareast pnts\n",
    "    if len(road_id_inter):\n",
    "        nearest = min(road_id_inter, key=lambda tup: tup[1])\n",
    "        segment_id = nearest[0]\n",
    "        \n",
    "        # create an empty list to store the sunglare records for all street segments\n",
    "        if segment_id not in segments_with_records:\n",
    "            segments_with_records[segment_id] = []\n",
    "        \n",
    "        segments_with_records[segment_id].append(record)\n",
    "        "
   ]
  },
  {
   "cell_type": "code",
   "execution_count": null,
   "metadata": {
    "collapsed": true
   },
   "outputs": [],
   "source": []
  },
  {
   "cell_type": "code",
   "execution_count": 25,
   "metadata": {},
   "outputs": [
    {
     "data": {
      "text/plain": [
       "10071"
      ]
     },
     "execution_count": 25,
     "metadata": {},
     "output_type": "execute_result"
    }
   ],
   "source": [
    "len(segments_with_records)\n",
    "# segments_with_records[22674]\n"
   ]
  },
  {
   "cell_type": "code",
   "execution_count": null,
   "metadata": {
    "collapsed": true
   },
   "outputs": [],
   "source": []
  },
  {
   "cell_type": "code",
   "execution_count": 27,
   "metadata": {},
   "outputs": [
    {
     "name": "stdout",
     "output_type": "stream",
     "text": [
      "You saved the shapefile successfully!\n"
     ]
    }
   ],
   "source": [
    "\n",
    "import numpy as np\n",
    "\n",
    "outputShp = os.path.join(root, 'SVF_GVI_Line_SF.shp')\n",
    "schema = {\n",
    "    'geometry': 'LineString',\n",
    "    'properties': {\n",
    "        'yaw': 'float',\n",
    "        'svf': 'float',\n",
    "        'gvi': 'float'\n",
    "    }\n",
    "}\n",
    "\n",
    "\n",
    "with fiona.open(outputShp, 'w', driver=\"ESRI Shapefile\", schema=schema, crs=crs) as output:\n",
    "    for idx, segment in enumerate(split_lines):\n",
    "        segment_geom = segment\n",
    "        \n",
    "        records = segments_with_records.get(idx)\n",
    "        \n",
    "        if records is None: #6 No GSV point on street segment, then assign them to -1\n",
    "            yaw_ave = -999\n",
    "            svf_ave = -999\n",
    "            gvi_ave = -999\n",
    "        else: \n",
    "            # create empty list of the sunrise and sunset glare\n",
    "            yaw_list = []\n",
    "            svf_list = []\n",
    "            gvi_list = []\n",
    "            \n",
    "            # loop the records to calculate the mean sunglare duration\n",
    "            for record in records:\n",
    "                yaw_list.append(record['yaw'])\n",
    "                svf_list.append(record['svf'])\n",
    "                gvi_list.append(record['gvi'])\n",
    "                \n",
    "            yaw_ave = sum(yaw_list)/float(len(yaw_list) + 0.0001)\n",
    "            svf_ave = sum(svf_list)/float(len(svf_list) + 0.0001)\n",
    "            gvi_ave = sum(gvi_list)/float(len(gvi_list) + 0.0001)\n",
    "    #         print('The sunlight exposure is:', sunexpo9_ave)\n",
    "            \n",
    "        # the data of the record\n",
    "        data = {\n",
    "            'yaw': yaw_ave,\n",
    "            'svf': svf_ave,\n",
    "            'gvi': gvi_ave\n",
    "        }\n",
    "        \n",
    "        \n",
    "        wgs_meter2deg_model = partial(pyproj.transform,pyproj.Proj(init='EPSG:3857'),pyproj.Proj(init='EPSG:4326'))\n",
    "        segment_geom_deg = transform(wgs_meter2deg_model, segment_geom)\n",
    "        \n",
    "        \n",
    "        # write to the output shapefile\n",
    "        output.write({\n",
    "            'geometry': mapping(segment_geom_deg),\n",
    "            'properties': data\n",
    "        })\n",
    "    \n",
    "    \n",
    "    print('You saved the shapefile successfully!')"
   ]
  },
  {
   "cell_type": "code",
   "execution_count": null,
   "metadata": {
    "collapsed": true
   },
   "outputs": [],
   "source": []
  },
  {
   "cell_type": "code",
   "execution_count": null,
   "metadata": {
    "collapsed": true
   },
   "outputs": [],
   "source": [
    "segment_geom_deg.bounds"
   ]
  },
  {
   "cell_type": "code",
   "execution_count": null,
   "metadata": {
    "collapsed": true
   },
   "outputs": [],
   "source": []
  },
  {
   "cell_type": "code",
   "execution_count": null,
   "metadata": {
    "collapsed": true
   },
   "outputs": [],
   "source": []
  }
 ],
 "metadata": {
  "kernelspec": {
   "display_name": "Python 3",
   "language": "python",
   "name": "python3"
  },
  "language_info": {
   "codemirror_mode": {
    "name": "ipython",
    "version": 3
   },
   "file_extension": ".py",
   "mimetype": "text/x-python",
   "name": "python",
   "nbconvert_exporter": "python",
   "pygments_lexer": "ipython3",
   "version": "3.6.3"
  }
 },
 "nbformat": 4,
 "nbformat_minor": 2
}
