{
 "cells": [
  {
   "cell_type": "markdown",
   "metadata": {},
   "source": [
    "#### This script is used to generate the metadata map of the collected GSV panorama in Tokyo\n",
    "For Fig. 5 in the paper of Route4Shade PROJ"
   ]
  },
  {
   "cell_type": "code",
   "execution_count": 1,
   "metadata": {
    "collapsed": true
   },
   "outputs": [],
   "source": [
    "import os, os.path\n",
    "from matplotlib import pyplot as plt"
   ]
  },
  {
   "cell_type": "code",
   "execution_count": 7,
   "metadata": {
    "collapsed": true
   },
   "outputs": [],
   "source": [
    "root = '/home/xiaojiang/xiaojiang/tokyo-proj/shibuya-proj'\n",
    "seg_skyImg = os.path.join(root, 'gsv-images/tif-seg-panos')\n",
    "\n",
    "# fields of GSV info\n",
    "fields = ['pntNum', 'panoid', 'longitude', 'latitude', 'year', 'month', 'pano_yaw_degree']\n",
    "\n",
    "# a list of GSV info dictionary\n",
    "gsvInfoLst = []\n",
    "\n",
    "# read the names of all processed files and then generate a gsv info list for creating shapefile\n",
    "for skyImgFile in os.listdir(seg_skyImg):\n",
    "    filename = os.path.splitext(skyImgFile)[0]\n",
    "    metadata = filename.split(' - ')\n",
    "    pntnum = metadata[0]\n",
    "    panoid = metadata[1]\n",
    "    lon = metadata[2]\n",
    "    lat = metadata[3]\n",
    "    year = metadata[4][:4]\n",
    "    month = metadata[4][-2:]\n",
    "    yaw = metadata[5][:-4]\n",
    "    \n",
    "    gsv_info = [pntnum, panoid, lon, lat, year, month, yaw]\n",
    "    \n",
    "    newEle = {fields[i]:gsv_info[i] for i in range(len(fields))} \n",
    "    gsvInfoLst.append(newEle)\n",
    "    "
   ]
  },
  {
   "cell_type": "code",
   "execution_count": 4,
   "metadata": {},
   "outputs": [
    {
     "data": {
      "text/plain": [
       "45085"
      ]
     },
     "execution_count": 4,
     "metadata": {},
     "output_type": "execute_result"
    }
   ],
   "source": [
    "len(gsvInfoLst)"
   ]
  },
  {
   "cell_type": "markdown",
   "metadata": {},
   "source": [
    "Create the shapefile based on the generated metadata"
   ]
  },
  {
   "cell_type": "code",
   "execution_count": 60,
   "metadata": {
    "collapsed": true
   },
   "outputs": [],
   "source": [
    "\n",
    "def CreatePointFeature_ogr(outputShapefile, gsvInfoLst):\n",
    "    \"\"\"\n",
    "    Create a shapefile based on the template of inputShapefile\n",
    "    This function will delete existing outpuShapefile and create a new\n",
    "    \n",
    "    Parameters:\n",
    "      outputShapefile: the ouput shapefile name\n",
    "      gsvInfoLst: the list of the metadata, lon and lat are included\n",
    "    \n",
    "    Examples:\n",
    "    \n",
    "    Copyright(c) Xiaojiang Li, MIT Senseable City Lab, June 22ed, 2017\n",
    "    \n",
    "    \"\"\"\n",
    "    \n",
    "    import ogr\n",
    "    import osr\n",
    "    import re\n",
    "    import os,os.path\n",
    "    \n",
    "    # create shapefile and add the above chosen random points to the shapfile\n",
    "    driver = ogr.GetDriverByName(\"ESRI Shapefile\")\n",
    "    \n",
    "    # create new shapefile\n",
    "    if os.path.exists(outputShapefile):\n",
    "        driver.DeleteDataSource(outputShapefile)\n",
    "    data_source = driver.CreateDataSource(outputShapefile)\n",
    "    \n",
    "    targetSpatialRef = osr.SpatialReference()\n",
    "    targetSpatialRef.ImportFromEPSG(4326)\n",
    "    \n",
    "    outLayer = data_source.CreateLayer(outputShapefile, targetSpatialRef, ogr.wkbPoint)\n",
    "    \n",
    "    numPnt = len(gsvInfoLst)\n",
    "    print ('the number of points is:',numPnt)\n",
    "    \n",
    "    \n",
    "    if numPnt > 0:\n",
    "        # create fields\n",
    "        fieldLst = gsvInfoLst[0].keys()\n",
    "        \n",
    "        for field in fieldLst:\n",
    "            if field == 'pntNum' or field == 'year' or field == 'duration' or field == 'risedur' or field == 'setdur':\n",
    "                outLayer.CreateField(ogr.FieldDefn(field, ogr.OFTInteger))\n",
    "            elif field == 'pano_yaw_degree': #the name is too long\n",
    "                outLayer.CreateField(ogr.FieldDefn(\"yaw\", ogr.OFTReal))\n",
    "            elif field == 'tilt_pitch_deg': #the name is too long\n",
    "                outLayer.CreateField(ogr.FieldDefn(\"tilt\", ogr.OFTReal))\n",
    "            # elif field == 'longitude' or field == 'latitude':\n",
    "            #     outLayer.CreateField(ogr.FieldDefn(field, ogr.OFTReal))\n",
    "            else:\n",
    "                fieldname = ogr.FieldDefn(field, ogr.OFTString)\n",
    "                outLayer.CreateField(fieldname)\n",
    "                \n",
    "        \n",
    "        for info in gsvInfoLst:\n",
    "            #create point geometry\n",
    "            point = ogr.Geometry(ogr.wkbPoint)\n",
    "            \n",
    "            # in case of the returned panoLon and PanoLat are invalid            \n",
    "            if type(info[\"longitude\"]) is str:\n",
    "                if len(info[\"longitude\"]) < 3:\n",
    "                    continue\n",
    "            \n",
    "#             point.AddPoint(float(info[\"longitude\"]),float(info[\"latitude\"]))\n",
    "            \n",
    "            wkt = \"POINT(%f %f)\" %  (float(info[\"longitude\"]) , float(info[\"latitude\"]))\n",
    "            point = ogr.CreateGeometryFromWkt(wkt)\n",
    "            \n",
    "            # Create the feature and set values\n",
    "            featureDefn = outLayer.GetLayerDefn()\n",
    "            outFeature = ogr.Feature(featureDefn)\n",
    "            outFeature.SetGeometry(point)\n",
    "            \n",
    "            for field in fieldLst:\n",
    "                # print ('The field name is ------------------:', field)\n",
    "\n",
    "                if field == 'pntNum' or field == 'year':\n",
    "                    outFeature.SetField(field, int(info[field]))\n",
    "                elif field == 'pano_yaw_degree':\n",
    "                    outFeature.SetField(\"yaw\", float(info[field]))\n",
    "                elif field == 'tilt_pitch_deg':\n",
    "                    outFeature.SetField(\"tilt\", float(info[field]))\n",
    "                else:\n",
    "                    # print ('The field is:', field, info[field])\n",
    "                    outFeature.SetField(field, str(info[field]))\n",
    "                \n",
    "            outLayer.CreateFeature(outFeature)\n",
    "            \n",
    "            outFeature.Destroy()\n",
    "        data_source.Destroy()\n",
    "    else:\n",
    "        print ('You create a empty shapefile')\n",
    "    "
   ]
  },
  {
   "cell_type": "code",
   "execution_count": null,
   "metadata": {
    "collapsed": true
   },
   "outputs": [],
   "source": []
  },
  {
   "cell_type": "code",
   "execution_count": 61,
   "metadata": {},
   "outputs": [
    {
     "name": "stdout",
     "output_type": "stream",
     "text": [
      "the number of points is: 45085\n"
     ]
    }
   ],
   "source": [
    "## Generate the shapefile based on the metadata of the GSV\n",
    "outputShapefile = os.path.join(root, 'GSV_metadata.shp')\n",
    "CreatePointFeature_ogr(outputShapefile, gsvInfoLst)"
   ]
  },
  {
   "cell_type": "code",
   "execution_count": null,
   "metadata": {
    "collapsed": true
   },
   "outputs": [],
   "source": []
  },
  {
   "cell_type": "markdown",
   "metadata": {
    "collapsed": true
   },
   "source": [
    "#### Plot the histogram and other graphics of the time stamps of GSV info"
   ]
  },
  {
   "cell_type": "code",
   "execution_count": 8,
   "metadata": {
    "collapsed": true
   },
   "outputs": [],
   "source": [
    "## Plot the figure of the GSV metadata\n",
    "monthList = []\n",
    "yearList = []\n",
    "\n",
    "for gsvInfo in gsvInfoLst:\n",
    "    month = gsvInfo['month']\n",
    "    year = gsvInfo['year']\n",
    "    monthList.append(month)\n",
    "    yearList.append(year)\n",
    "    "
   ]
  },
  {
   "cell_type": "code",
   "execution_count": 9,
   "metadata": {},
   "outputs": [
    {
     "data": {
      "text/plain": [
       "45085"
      ]
     },
     "execution_count": 9,
     "metadata": {},
     "output_type": "execute_result"
    }
   ],
   "source": [
    "len(monthList)"
   ]
  },
  {
   "cell_type": "code",
   "execution_count": 72,
   "metadata": {},
   "outputs": [
    {
     "data": {
      "image/png": "[encoded data removed]",
      "text/plain": [
       "<matplotlib.figure.Figure at 0x7fcdc8f26cc0>"
      ]
     },
     "metadata": {},
     "output_type": "display_data"
    }
   ],
   "source": [
    "## The histogram of the month information of the GSV info\n",
    "import numpy as np\n",
    "from matplotlib import rc\n",
    "import matplotlib.pyplot as mpl\n",
    "\n",
    "\n",
    "rc('font',**{'family':'serif','serif':['Times']})\n",
    "rc('text', usetex=True)\n",
    "mpl.rcParams['font.size'] = 16\n",
    "\n",
    "\n",
    "monthArray = np.asarray(monthList)\n",
    "plt.hist(monthArray, bins = 13, color='green', alpha=0.75, rwidth=1)\n",
    "plt.grid(axis='y', alpha=0.25)\n",
    "plt.xlabel('Month')\n",
    "plt.ylabel('Number of GSV panoramas')\n",
    "plt.show()\n"
   ]
  },
  {
   "cell_type": "code",
   "execution_count": null,
   "metadata": {
    "collapsed": true
   },
   "outputs": [],
   "source": []
  },
  {
   "cell_type": "markdown",
   "metadata": {},
   "source": [
    "Prepare the month data"
   ]
  },
  {
   "cell_type": "code",
   "execution_count": 73,
   "metadata": {},
   "outputs": [
    {
     "name": "stdout",
     "output_type": "stream",
     "text": [
      "[('04', 5261), ('05', 5038), ('06', 15624), ('07', 8736), ('08', 234), ('09', 6604), ('10', 3588)]\n",
      "['Jan', 'Feb', 'Mar', 'Apr', 'May', 'Jun', 'Jul', 'Aug', 'Sep', 'Oct', 'Nov', 'Dec']\n",
      "[5261, 5038, 15624, 8736, 234, 6604, 3588]\n"
     ]
    }
   ],
   "source": [
    "# Imports\n",
    "import matplotlib.pyplot as plt\n",
    "import numpy as np\n",
    "import collections\n",
    "\n",
    "data = \"\"\"\n",
    "Jan\n",
    "Feb\n",
    "Mar\n",
    "Apr\n",
    "May\n",
    "Jun\n",
    "Jul\n",
    "Aug\n",
    "Sep\n",
    "Oct\n",
    "Nov\n",
    "Dec\n",
    "\"\"\"\n",
    "\n",
    "months = data.split()\n",
    "\n",
    "c = collections.Counter(monthList)\n",
    "c = sorted(c.items())\n",
    "month_names = [i[0] for i in c]\n",
    "freq = [i[1] for i in c]\n",
    "\n",
    "print(c)\n",
    "print(months)\n",
    "print(freq)\n"
   ]
  },
  {
   "cell_type": "code",
   "execution_count": null,
   "metadata": {
    "collapsed": true
   },
   "outputs": [],
   "source": []
  },
  {
   "cell_type": "markdown",
   "metadata": {},
   "source": [
    "Prepare the yearly data"
   ]
  },
  {
   "cell_type": "code",
   "execution_count": 74,
   "metadata": {},
   "outputs": [
    {
     "name": "stdout",
     "output_type": "stream",
     "text": [
      "[6884, 121, 183, 1586, 16017, 5959, 2170, 2136, 3664, 6365]\n",
      "\n",
      "[('2009', 6884), ('2010', 121), ('2011', 183), ('2012', 1586), ('2013', 16017), ('2014', 5959), ('2015', 2170), ('2016', 2136), ('2017', 3664), ('2018', 6365)]\n"
     ]
    }
   ],
   "source": [
    "years = collections.Counter(yearList)\n",
    "years= sorted(years.items())\n",
    "# month_names = ['Apr', 'May', 'Jun', 'Jul', 'Aug', 'Sep', 'Oct']\n",
    "yearname = [i[0] for i in years]\n",
    "yearfreq = [i[1] for i in years]\n",
    "\n",
    "print(yearfreq)\n",
    "print()\n",
    "print(years)"
   ]
  },
  {
   "cell_type": "code",
   "execution_count": null,
   "metadata": {},
   "outputs": [],
   "source": []
  },
  {
   "cell_type": "code",
   "execution_count": 96,
   "metadata": {},
   "outputs": [
    {
     "data": {
      "image/png": "[encoded data removed]",
      "text/plain": [
       "<matplotlib.figure.Figure at 0x7fcdc8e327b8>"
      ]
     },
     "metadata": {},
     "output_type": "display_data"
    }
   ],
   "source": [
    "from matplotlib import gridspec\n",
    "\n",
    "fig = plt.subplots(1,2, figsize=(15, 6))\n",
    "gs = gridspec.GridSpec(1, 2, width_ratios=[2, 3])\n",
    "\n",
    "plt.subplot(gs[0])\n",
    "plt.barh(month_names, freq, color='blue', alpha=0.75)\n",
    "# plt.title(\"Job Request per month\")\n",
    "plt.xlabel(\"Number of GSV panoramas\")\n",
    "plt.ylabel(\"Months\")\n",
    "# ax.set_xticks(range(1, 13))\n",
    "# ax.set_xticklabels(months)\n",
    "\n",
    "# plt.subplot(gs[1])\n",
    "# plt.barh(yearname, yearfreq, color='green', alpha=0.75)\n",
    "# plt.xlabel('Number of GSV panoramas')\n",
    "# plt.ylabel('Year')\n",
    "\n",
    "plt.tight_layout()\n",
    "plt.savefig('month_info.png', dpi=300)\n",
    "plt.show()\n"
   ]
  },
  {
   "cell_type": "code",
   "execution_count": 68,
   "metadata": {},
   "outputs": [
    {
     "data": {
      "text/plain": [
       "(<matplotlib.figure.Figure at 0x7fcdc98048d0>,\n",
       " array([<matplotlib.axes._subplots.AxesSubplot object at 0x7fcdc9804fd0>,\n",
       "        <matplotlib.axes._subplots.AxesSubplot object at 0x7fcdc9275898>], dtype=object))"
      ]
     },
     "execution_count": 68,
     "metadata": {},
     "output_type": "execute_result"
    }
   ],
   "source": [
    "fig"
   ]
  },
  {
   "cell_type": "code",
   "execution_count": null,
   "metadata": {},
   "outputs": [],
   "source": []
  },
  {
   "cell_type": "code",
   "execution_count": null,
   "metadata": {
    "collapsed": true
   },
   "outputs": [],
   "source": []
  },
  {
   "cell_type": "code",
   "execution_count": null,
   "metadata": {
    "collapsed": true
   },
   "outputs": [],
   "source": []
  }
 ],
 "metadata": {
  "kernelspec": {
   "display_name": "Python 3",
   "language": "python",
   "name": "python3"
  },
  "language_info": {
   "codemirror_mode": {
    "name": "ipython",
    "version": 3
   },
   "file_extension": ".py",
   "mimetype": "text/x-python",
   "name": "python",
   "nbconvert_exporter": "python",
   "pygments_lexer": "ipython3",
   "version": "3.7.1"
  }
 },
 "nbformat": 4,
 "nbformat_minor": 2
}
